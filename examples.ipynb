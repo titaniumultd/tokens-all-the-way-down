{
 "cells": [
  {
   "cell_type": "code",
   "execution_count": null,
   "metadata": {},
   "outputs": [],
   "source": [
    "# Run first to download necessary libraries and initialize the tokenizer\n",
    "import nltk\n",
    "\n",
    "from src.tokenizer import Tokenizer\n",
    "#from tests.test_tokenizer import Tokenizer\n",
    "\n",
    "nltk.download('wordnet')\n",
    "nltk.download('averaged_perceptron_tagger')"
   ]
  },
  {
   "cell_type": "code",
   "execution_count": null,
   "metadata": {},
   "outputs": [],
   "source": [
    "#example with contactions, return lower case tokens\n",
    "tokenizer = Tokenizer(lowercase=True)\n",
    "text = \"I'm going to the store, but I can't find my keys!\"\n",
    "tokens = tokenizer.tokenize(text)\n",
    "print(tokens)"
   ]
  },
  {
   "cell_type": "code",
   "execution_count": null,
   "metadata": {},
   "outputs": [],
   "source": [
    "#example with custom delimiters\n",
    "\n",
    "tokenizer = Tokenizer(lowercase=True, delimiters=[' ', ',', '.'])\n",
    "text = \"Hello, world! This is a test.\"\n",
    "tokens = tokenizer.tokenize(text)\n",
    "print(tokens)\n"
   ]
  },
  {
   "cell_type": "code",
   "execution_count": null,
   "metadata": {},
   "outputs": [],
   "source": [
    "#test for remove_stopwords\n",
    "\n",
    "tokenizer = Tokenizer(lowercase=True, delimiters=[' ', ',', '.'], remove_stopwords=True)\n",
    "text = \"The quick brown fox jumps over the lazy dog.\"\n",
    "tokens = tokenizer.tokenize(text)\n",
    "print(tokens)\n"
   ]
  },
  {
   "cell_type": "code",
   "execution_count": null,
   "metadata": {},
   "outputs": [],
   "source": [
    "#example with stemming\n",
    "\n",
    "tokenizer = Tokenizer(lowercase=True, remove_stopwords=True, stem=True)\n",
    "text = \"The quick brown fox jumps over the lazy dog.\"\n",
    "tokens = tokenizer.tokenize(text)\n",
    "print(tokens)\n"
   ]
  },
  {
   "cell_type": "code",
   "execution_count": null,
   "metadata": {},
   "outputs": [],
   "source": [
    "#example with ngrams\n",
    "\n",
    "tokenizer = Tokenizer(lowercase=True, remove_stopwords=True, ngram=2)\n",
    "text = \"The quick brown fox jumps over the lazy dog.\"\n",
    "tokens = tokenizer.tokenize(text)\n",
    "print(tokens)"
   ]
  },
  {
   "cell_type": "code",
   "execution_count": null,
   "metadata": {},
   "outputs": [],
   "source": [
    "#example with minimum token length filtering\n",
    "\n",
    "tokenizer = Tokenizer(lowercase=True, remove_stopwords=True, min_token_length=4)\n",
    "text = \"The quick brown fox jumps over the lazy dog.\"\n",
    "tokens = tokenizer.tokenize(text)\n",
    "print(tokens)"
   ]
  },
  {
   "cell_type": "code",
   "execution_count": null,
   "metadata": {},
   "outputs": [],
   "source": [
    "#example with a custom filter defined, with example filter\n",
    "\n",
    "def custom_filter_function(token):\n",
    "    return token.startswith('f')\n",
    "\n",
    "tokenizer = Tokenizer(custom_filter=custom_filter_function)\n",
    "text = \"The quick brown fox jumps over the lazy dog.\"\n",
    "tokens = tokenizer.tokenize(text)\n",
    "print(tokens)\n"
   ]
  },
  {
   "cell_type": "code",
   "execution_count": null,
   "metadata": {},
   "outputs": [],
   "source": [
    "#example with Part of Speech tagging\n",
    "tokenizer = Tokenizer(pos_tag=True)\n",
    "text = \"The quick brown fox jumps over the lazy dog.\"\n",
    "tokens = tokenizer.tokenize(text)\n",
    "print(tokens)"
   ]
  }
 ],
 "metadata": {
  "kernelspec": {
   "display_name": "Python 3",
   "language": "python",
   "name": "python3"
  },
  "language_info": {
   "codemirror_mode": {
    "name": "ipython",
    "version": 3
   },
   "file_extension": ".py",
   "mimetype": "text/x-python",
   "name": "python",
   "nbconvert_exporter": "python",
   "pygments_lexer": "ipython3",
   "version": "3.9.13"
  },
  "orig_nbformat": 4
 },
 "nbformat": 4,
 "nbformat_minor": 2
}
