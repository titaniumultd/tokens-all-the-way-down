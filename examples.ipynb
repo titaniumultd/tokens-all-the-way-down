{
 "cells": [
  {
   "cell_type": "code",
   "execution_count": 2,
   "metadata": {},
   "outputs": [
    {
     "name": "stderr",
     "output_type": "stream",
     "text": [
      "[nltk_data] Downloading package wordnet to\n",
      "[nltk_data]     C:\\Users\\jb074968\\AppData\\Roaming\\nltk_data...\n"
     ]
    },
    {
     "data": {
      "text/plain": [
       "True"
      ]
     },
     "execution_count": 2,
     "metadata": {},
     "output_type": "execute_result"
    }
   ],
   "source": [
    "# Run to easy download the wordnet data for lemmatizing support\n",
    "import nltk\n",
    "nltk.download('wordnet')"
   ]
  },
  {
   "cell_type": "code",
   "execution_count": null,
   "metadata": {},
   "outputs": [],
   "source": [
    "#example with contactions, return lower case tokens\n",
    "from src.tokenizer import Tokenizer\n",
    "\n",
    "tokenizer = Tokenizer(lowercase=True)\n",
    "text = \"I'm going to the store, but I can't find my keys!\"\n",
    "tokens = tokenizer.tokenize(text)\n",
    "print(tokens)"
   ]
  },
  {
   "cell_type": "code",
   "execution_count": 10,
   "metadata": {},
   "outputs": [
    {
     "name": "stdout",
     "output_type": "stream",
     "text": [
      "['hello', ',', ' ', 'world', ' ', 'this', ' ', 'is', ' ', 'a', ' ', 'test', '.']\n"
     ]
    }
   ],
   "source": [
    "#example with custom delimiters\n",
    "from src.tokenizer import Tokenizer\n",
    "\n",
    "tokenizer = Tokenizer(lowercase=True, delimiters=[' ', ',', '.'])\n",
    "text = \"Hello, world! This is a test.\"\n",
    "tokens = tokenizer.tokenize(text)\n",
    "print(tokens)\n"
   ]
  },
  {
   "cell_type": "code",
   "execution_count": 16,
   "metadata": {},
   "outputs": [
    {
     "ename": "TypeError",
     "evalue": "__init__() got an unexpected keyword argument 'remove_stopwords'",
     "output_type": "error",
     "traceback": [
      "\u001b[1;31m---------------------------------------------------------------------------\u001b[0m",
      "\u001b[1;31mTypeError\u001b[0m                                 Traceback (most recent call last)",
      "Cell \u001b[1;32mIn[16], line 4\u001b[0m\n\u001b[0;32m      1\u001b[0m \u001b[39m#test for remove_stopwords\u001b[39;00m\n\u001b[0;32m      2\u001b[0m \u001b[39mfrom\u001b[39;00m \u001b[39msrc\u001b[39;00m\u001b[39m.\u001b[39;00m\u001b[39mtokenizer\u001b[39;00m \u001b[39mimport\u001b[39;00m Tokenizer\n\u001b[1;32m----> 4\u001b[0m tokenizer \u001b[39m=\u001b[39m Tokenizer(lowercase\u001b[39m=\u001b[39;49m\u001b[39mTrue\u001b[39;49;00m, delimiters\u001b[39m=\u001b[39;49m[\u001b[39m'\u001b[39;49m\u001b[39m \u001b[39;49m\u001b[39m'\u001b[39;49m, \u001b[39m'\u001b[39;49m\u001b[39m,\u001b[39;49m\u001b[39m'\u001b[39;49m, \u001b[39m'\u001b[39;49m\u001b[39m.\u001b[39;49m\u001b[39m'\u001b[39;49m], remove_stopwords\u001b[39m=\u001b[39;49m\u001b[39mTrue\u001b[39;49;00m)\n\u001b[0;32m      5\u001b[0m text \u001b[39m=\u001b[39m \u001b[39m\"\u001b[39m\u001b[39mThe quick brown fox jumps over the lazy dog.\u001b[39m\u001b[39m\"\u001b[39m\n\u001b[0;32m      6\u001b[0m tokens \u001b[39m=\u001b[39m tokenizer\u001b[39m.\u001b[39mtokenize(text)\n",
      "\u001b[1;31mTypeError\u001b[0m: __init__() got an unexpected keyword argument 'remove_stopwords'"
     ]
    }
   ],
   "source": [
    "#test for remove_stopwords\n",
    "from src.tokenizer import Tokenizer\n",
    "\n",
    "tokenizer = Tokenizer(lowercase=True, delimiters=[' ', ',', '.'], remove_stopwords=True)\n",
    "text = \"The quick brown fox jumps over the lazy dog.\"\n",
    "tokens = tokenizer.tokenize(text)\n",
    "print(tokens)\n"
   ]
  },
  {
   "cell_type": "code",
   "execution_count": 1,
   "metadata": {},
   "outputs": [
    {
     "name": "stdout",
     "output_type": "stream",
     "text": [
      "[' ', 'quick', ' ', 'brown', ' ', 'fox', ' ', 'jumps', ' ', 'over', ' ', ' ', 'lazy', ' ', 'dog', '.']\n"
     ]
    }
   ],
   "source": [
    "#test for remove_stopwords\n",
    "from src.tokenizer import Tokenizer\n",
    "\n",
    "tokenizer = Tokenizer(lowercase=True, delimiters=[' ', ',', '.'], remove_stopwords=True)\n",
    "text = \"The quick brown fox jumps over the lazy dog.\"\n",
    "tokens = tokenizer.tokenize(text)\n",
    "print(tokens)\n"
   ]
  },
  {
   "cell_type": "code",
   "execution_count": 1,
   "metadata": {},
   "outputs": [
    {
     "name": "stdout",
     "output_type": "stream",
     "text": [
      "['quick', 'brown', 'fox', 'jump', 'over', 'lazi', 'dog', '.']\n"
     ]
    }
   ],
   "source": [
    "#example with stemming\n",
    "from src.tokenizer import Tokenizer\n",
    "\n",
    "tokenizer = Tokenizer(lowercase=True, remove_stopwords=True, stem=True)\n",
    "text = \"The quick brown fox jumps over the lazy dog.\"\n",
    "tokens = tokenizer.tokenize(text)\n",
    "print(tokens)\n"
   ]
  },
  {
   "cell_type": "code",
   "execution_count": 1,
   "metadata": {},
   "outputs": [
    {
     "name": "stdout",
     "output_type": "stream",
     "text": [
      "['quick brown', 'brown fox', 'fox jumps', 'jumps over', 'over lazy', 'lazy dog', 'dog .']\n"
     ]
    }
   ],
   "source": [
    "#example with ngrams\n",
    "from src.tokenizer import Tokenizer\n",
    "\n",
    "tokenizer = Tokenizer(lowercase=True, remove_stopwords=True, ngram=2)\n",
    "text = \"The quick brown fox jumps over the lazy dog.\"\n",
    "tokens = tokenizer.tokenize(text)\n",
    "print(tokens)"
   ]
  },
  {
   "cell_type": "code",
   "execution_count": null,
   "metadata": {},
   "outputs": [],
   "source": [
    "#example with minimum token length filtering\n",
    "from src.tokenizer import Tokenizer\n",
    "\n",
    "tokenizer = Tokenizer(lowercase=True, remove_stopwords=True, min_token_length=4)\n",
    "text = \"The quick brown fox jumps over the lazy dog.\"\n",
    "tokens = tokenizer.tokenize(text)\n",
    "print(tokens)"
   ]
  },
  {
   "cell_type": "code",
   "execution_count": 3,
   "metadata": {},
   "outputs": [
    {
     "name": "stdout",
     "output_type": "stream",
     "text": [
      "['fox']\n"
     ]
    }
   ],
   "source": [
    "#example with a custom filter defined, with example filter\n",
    "from src.tokenizer import Tokenizer\n",
    "\n",
    "def custom_filter_function(token):\n",
    "    return token.startswith('f')\n",
    "\n",
    "tokenizer = Tokenizer(custom_filter=custom_filter_function)\n",
    "text = \"The quick brown fox jumps over the lazy dog.\"\n",
    "tokens = tokenizer.tokenize(text)\n",
    "print(tokens)\n"
   ]
  },
  {
   "cell_type": "code",
   "execution_count": null,
   "metadata": {},
   "outputs": [],
   "source": []
  }
 ],
 "metadata": {
  "kernelspec": {
   "display_name": "Python 3",
   "language": "python",
   "name": "python3"
  },
  "language_info": {
   "codemirror_mode": {
    "name": "ipython",
    "version": 3
   },
   "file_extension": ".py",
   "mimetype": "text/x-python",
   "name": "python",
   "nbconvert_exporter": "python",
   "pygments_lexer": "ipython3",
   "version": "3.9.13"
  },
  "orig_nbformat": 4
 },
 "nbformat": 4,
 "nbformat_minor": 2
}
